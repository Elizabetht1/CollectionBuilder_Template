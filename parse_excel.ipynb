import pandas as pd

test = pd.read_csv("/Users/elizabethterveen/Downloads/Black Archive.xlsx - Books.csv")
